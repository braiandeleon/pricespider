{
 "cells": [
  {
   "cell_type": "markdown",
   "id": "b65de989-3561-41b6-ab9b-8ba1266ac611",
   "metadata": {},
   "source": [
    "<h1 id=\"Introduction-to-CSS-(Cascading-Style-Sheets)&nbsp;\" style=\"text-align: center;\">Introduction to CSS (Cascading Style Sheets)&nbsp;</h1>\n",
    "<h4 id=\"url:-git@github.com:braiandeleon/CssIntroduction.git\"><strong>url: git@github.com:braiandeleon/CssIntroduction.git</strong></h4>\n",
    "<p>Browser primarily receives HTML and CSS from an external resource hosted by the webpage (usually a server). These two make up the basic structure of any website. The main difference is that CSS enables control of the styling and layout of web pages.</p>\n",
    "<p>&nbsp;</p>\n",
    "<h4 id=\"Where-CSS-fits?\">Where CSS fits?</h4>\n",
    "<p style=\"text-align: center;\"><img src=\"https://cdn-media-1.freecodecamp.org/images/1*18ZU8N-2YsccoCU8z9uWOw.png\" alt=\"The relationship between HTML, CSS and JavaScript explained by building a  city\" width=\"30%\" /></p>\n",
    "<p style=\"text-align: center;\"><img src=\"https://qph.cf2.quoracdn.net/main-qimg-73742f9afad887900ea786ae2006ba28-pjlq\" alt=\"What is the relationship between HTML, JavaScript and CSS? - Quora\" width=\"30%\" /></p>\n",
    "<p style=\"text-align: center;\"><img src=\"https://qph.cf2.quoracdn.net/main-qimg-ce808a9ee61a5abd32f529b9150dd470\" alt=\"How to understand HTML and CSS in the simplest way - Quora\" width=\"30%\" /></p>\n",
    "<p>HTML says what is in there. CSS how it looks and JS how everything should behave.&nbsp;</p>\n",
    "<p>&nbsp;</p>\n",
    "<p>The better way to understand CSS is to imagine every element inside an invisible rectangular box so that you can modify its position and style. CSS associates style rules with HTML elements. These rules govern how the content of specified elements should be displayed.</p>\n",
    "<p>&nbsp;</p>\n",
    "<p>There are two different kinds of elements. Block and Inline.</p>\n",
    "<ul>\n",
    "<li>Inline elements flow within the text and,</li>\n",
    "<li>Block ones create new lines to display the elements.</li>\n",
    "</ul>\n",
    "<p><img src=\"files/files/Desktop/Git/Cssintroduction/files/Desktop/Git/Cssintroduction/images/1.png%3F_xsrf%3D2%7C735564a9%7C505b024be774af5d52bda1824b9ef479%7C1676178982%261676234427497%3F_xsrf%3D2%7C735564a9%7C505b024be774af5d52bda1824b9ef479%7C1676178982%261676235153676?_xsrf=2%7C735564a9%7C505b024be774af5d52bda1824b9ef479%7C1676178982&amp;1676504452127\" alt=\"Image\" width=\"400\" height=\"400\" /></p>\n",
    "<h3 id=\"Basic-Structure-of-Syntax\">Basic Structure of Syntax</h3>\n",
    "<p><img src=\"files/Desktop/GIT/Cssintroduction/images/structure.png\" alt=\"Image\" width=\"30%\" height=\"30%\" /></p>\n",
    "<p>A CSS rule contains two parts: a selector and a declaration.</p>\n",
    "<ul>\n",
    "<li><em><strong>Selectors</strong></em> indicate which element the rule applies to. The same rule can apply to different elements. (Answers the question: to who?)</li>\n",
    "<li><em><strong>Declarations</strong></em> indicate how the elements referred should be styled and are split into two parts: a property and a value. (What?)</li>\n",
    "</ul>"
   ]
  },
  {
   "cell_type": "markdown",
   "id": "0d77bf24-2967-4f83-b385-12b56e35ef84",
   "metadata": {},
   "source": [
    "<p><span style=\"font-size: 24pt;\"><strong>Note</strong></span></p>\n",
    "<p><strong>&lt;!DOCTYPE html&gt;</strong> represent the HTML5 syntax which supports some new tags like nav, header etc.</p>\n",
    "<p>The <strong>html </strong>tag contains HTML content also knows as root tag.</p>\n",
    "<p><strong>head</strong> includes the CSS style code, JavaScript code, and meta tags (describes HTML document: keywords). CANT SEE!</p>\n",
    "<p>All the HTML rendered content should be placed inside body tag. CAN SEE!</p>\n",
    "<p><strong>div</strong> is used as a container to represent an area on the screen. LIKE A MARKER!</p>"
   ]
  },
  {
   "cell_type": "markdown",
   "id": "2fc94d0c-aa33-401c-a76d-9d5a24ff41bc",
   "metadata": {},
   "source": [
    "<p><strong>CSS can be added to HTML documents in 3 ways:</strong></p>\n",
    "<ul>\n",
    "<li>Inline - by using the style attribute inside HTML elements.</li>\n",
    "<li>Internal - by using a &lt;style&gt; element in the &lt;head&gt; section.</li>\n",
    "<li>External - by using a &lt;link&gt; element to link to an external CSS file.</li>\n",
    "</ul>"
   ]
  },
  {
   "cell_type": "markdown",
   "id": "a465e90e-fe99-4569-a432-c1e3285da67a",
   "metadata": {},
   "source": [
    "<p><strong>USING EXTERNAL CSS</strong></p>\n",
    "<p>-In the next cell we should see how to load an external CSS file into an html.&nbsp;</p>\n",
    "<p>&nbsp;</p>"
   ]
  },
  {
   "cell_type": "code",
   "execution_count": 23,
   "id": "35b03fd0",
   "metadata": {
    "tags": []
   },
   "outputs": [
    {
     "data": {
      "text/html": [
       "\n",
       "<iframe src=\"html/using-external-css.html\" width=\"900\" height=\"250\"></iframe>\n"
      ],
      "text/plain": [
       "<IPython.core.display.HTML object>"
      ]
     },
     "metadata": {},
     "output_type": "display_data"
    }
   ],
   "source": [
    "from IPython.display import HTML,display \n",
    "html = \"\"\"\n",
    "<iframe src=\"html/using-external-css.html\" width=\"900\" height=\"250\"></iframe>\n",
    "\"\"\"\n",
    "\n",
    "display(HTML(html))"
   ]
  },
  {
   "cell_type": "markdown",
   "id": "66798f4a-23bc-4612-b5bc-774d059d3314",
   "metadata": {
    "tags": []
   },
   "source": [
    "<h3>Using internally (no in line) CSS</h3>"
   ]
  },
  {
   "cell_type": "code",
   "execution_count": 24,
   "id": "a33cc7a0-7910-4b42-afc4-b367b9311604",
   "metadata": {
    "tags": []
   },
   "outputs": [
    {
     "data": {
      "text/html": [
       "\n",
       "<iframe src=\"html/using-internal-css.html\" width=\"900\" height=\"250\"></iframe>\n"
      ],
      "text/plain": [
       "<IPython.core.display.HTML object>"
      ]
     },
     "metadata": {},
     "output_type": "display_data"
    }
   ],
   "source": [
    "from IPython.display import HTML,display \n",
    "html = \"\"\"\n",
    "<iframe src=\"html/using-internal-css.html\" width=\"900\" height=\"250\"></iframe>\n",
    "\"\"\"\n",
    "\n",
    "display(HTML(html))"
   ]
  },
  {
   "cell_type": "markdown",
   "id": "0ac291d1-b5cb-4771-9dff-34f30d31a008",
   "metadata": {},
   "source": [
    "<h3>Commonly used selectors<br /><img style=\"font-weight: 400;\" src=\"https://lh3.googleusercontent.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s1578-w1276-h1578-no?authuser=0\" width=\"30%\" /></h3>\n",
    "<p>Page first, CSS code later.&nbsp;</p>"
   ]
  },
  {
   "cell_type": "code",
   "execution_count": 21,
   "id": "be937f56-2574-4648-b883-c8b434cae94d",
   "metadata": {
    "tags": []
   },
   "outputs": [
    {
     "data": {
      "text/html": [
       "\n",
       "<iframe src=\"html/css-selectors.html\" width=\"900\" height=\"500\"></iframe>\n"
      ],
      "text/plain": [
       "<IPython.core.display.HTML object>"
      ]
     },
     "metadata": {},
     "output_type": "display_data"
    }
   ],
   "source": [
    "from IPython.display import HTML,display \n",
    "html = \"\"\"\n",
    "<iframe src=\"html/css-selectors.html\" width=\"900\" height=\"500\"></iframe>\n",
    "\"\"\"\n",
    "\n",
    "display(HTML(html))"
   ]
  },
  {
   "cell_type": "markdown",
   "id": "8ff5f39d-6d57-479a-94d8-3c0c6f7a17c6",
   "metadata": {},
   "source": [
    "Selectors are case-sensitive "
   ]
  },
  {
   "cell_type": "markdown",
   "id": "3a2cf73e-8c29-4ee1-92dd-70ab15b767e1",
   "metadata": {},
   "source": [
    "Selectors can be based to target elements with specific attributes and/or value."
   ]
  },
  {
   "cell_type": "markdown",
   "id": "7edddcdf-9f8e-499d-892b-70c61ac4509d",
   "metadata": {},
   "source": [
    "<p><strong>Precedence</strong></p>\n",
    "<p>If two or more rules apply to the same element, wich one takes precedence?</p>"
   ]
  },
  {
   "cell_type": "markdown",
   "id": "e7d664ce-9a83-41d2-83ee-3c4e2d8bf4bd",
   "metadata": {},
   "source": [
    "Last Rule: if two selectors are identical. \n",
    "    \n",
    "Specificity: \n",
    "    h1 > * \n",
    "    p b (elementas b dentro de p) < p\n",
    "    p#intro > p\n",
    "\n",
    "    \n",
    "Importance:\n",
    "    using !important after any property. Overrides rules that target same element. "
   ]
  },
  {
   "cell_type": "markdown",
   "id": "6eb34b66-4769-4606-a340-c3c243c96a63",
   "metadata": {},
   "source": [
    "<p>Along with inheritance this makes the cascade property of CSS You can make general rules, and then below these override them to make them more specific. That way child elements of one sort inherits properties from parent elements. With later rules aplying to earlier ones, simulating a cascade effect.&nbsp;</p>\n",
    "<p>&nbsp;</p>\n",
    "<p><img src=\"https://st2.depositphotos.com/2998363/6049/v/380/depositphotos_60499137-stock-illustration-the-domino-effect.jpg\" alt=\"Dominoes Falling free vector eps, cdr, ai, svg vector illustration graphic  art\" /></p>"
   ]
  },
  {
   "cell_type": "markdown",
   "id": "dfc53612-c814-40fe-8ccf-c5ffc7409bbc",
   "metadata": {},
   "source": [
    "Why using external CSS?\n",
    "\n",
    "-All of your webpages can share the same CSS. -> Faster loading times. Editing all webpages reduces to editing one file. \n",
    "\n",
    "\n",
    "\n"
   ]
  },
  {
   "cell_type": "code",
   "execution_count": 15,
   "id": "7bf83f6f-6250-4e25-b528-18036b08fee9",
   "metadata": {
    "collapsed": true,
    "jupyter": {
     "outputs_hidden": true
    },
    "tags": []
   },
   "outputs": [
    {
     "data": {
      "text/plain": [
       "'\\n*\\n├── home\\n│   └── user\\n│       ├── documents\\n│       │   ├── resume\\n│       │   └── cover_letter\\n│       └── pictures\\n│           ├── vacation\\n│           │   └── beach\\n│           └── family\\n│               └── christmas\\n└── opt\\n    └── programs\\n        └── editor\\n            └── sublime_text\\n                └── sublime_text\\n\\n'"
      ]
     },
     "execution_count": 15,
     "metadata": {},
     "output_type": "execute_result"
    }
   ],
   "source": [
    "#CASCADE EFFECT IN CSS\n",
    "'''\n",
    "*\n",
    "├── home\n",
    "│   └── user\n",
    "│       ├── documents\n",
    "│       │   ├── resume\n",
    "│       │   └── cover_letter\n",
    "│       └── pictures\n",
    "│           ├── vacation\n",
    "│           │   └── beach\n",
    "│           └── family\n",
    "│               └── christmas\n",
    "└── opt\n",
    "    └── programs\n",
    "        └── editor\n",
    "            └── sublime_text\n",
    "                └── sublime_text\n",
    "\n",
    "'''"
   ]
  },
  {
   "cell_type": "code",
   "execution_count": null,
   "id": "15907414-b798-4571-99ba-70b919cc2a97",
   "metadata": {},
   "outputs": [],
   "source": []
  }
 ],
 "metadata": {
  "kernelspec": {
   "display_name": "Python 3 (ipykernel)",
   "language": "python",
   "name": "python3"
  },
  "language_info": {
   "codemirror_mode": {
    "name": "ipython",
    "version": 3
   },
   "file_extension": ".py",
   "mimetype": "text/x-python",
   "name": "python",
   "nbconvert_exporter": "python",
   "pygments_lexer": "ipython3",
   "version": "3.9.13"
  }
 },
 "nbformat": 4,
 "nbformat_minor": 5
}
